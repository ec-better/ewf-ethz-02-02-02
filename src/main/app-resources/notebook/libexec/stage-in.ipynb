{
 "cells": [
  {
   "cell_type": "code",
   "execution_count": 1,
   "metadata": {},
   "outputs": [],
   "source": [
    "import os\n",
    "import cioppy"
   ]
  },
  {
   "cell_type": "code",
   "execution_count": 2,
   "metadata": {},
   "outputs": [],
   "source": [
    "ciop = cioppy.Cioppy()"
   ]
  },
  {
   "cell_type": "code",
   "execution_count": 3,
   "metadata": {},
   "outputs": [],
   "source": [
    "data_path = '/workspace/data'"
   ]
  },
  {
   "cell_type": "code",
   "execution_count": 4,
   "metadata": {},
   "outputs": [],
   "source": [
    "if not os.path.isdir(data_path):\n",
    "    os.makedirs(data_path)"
   ]
  },
  {
   "cell_type": "code",
   "execution_count": 5,
   "metadata": {},
   "outputs": [],
   "source": [
    "input_references = ('https://catalog.terradue.com:443/sentinel2/search?uid=S2A_MSIL2A_20190601T163311_N0212_R140_T15MYV_20190601T221326',\n",
    "                    'https://catalog.terradue.com:443/sentinel2/search?uid=S2A_MSIL2A_20190611T163311_N0212_R140_T15MYV_20190611T222739')"
   ]
  },
  {
   "cell_type": "code",
   "execution_count": 6,
   "metadata": {},
   "outputs": [],
   "source": [
    "#Kaikoura 2016\n",
    "#input_references = ['https://catalog.terradue.com/sentinel1/search?uid=S1B_IW_GRDH_1SSV_20161121T072138_20161121T072207_003053_005313_A18A',\n",
    "#                    'https://catalog.terradue.com/sentinel1/search?uid=S1A_IW_GRDH_1SSV_20161010T072220_20161010T072249_013424_015707_927F']"
   ]
  },
  {
   "cell_type": "code",
   "execution_count": 7,
   "metadata": {},
   "outputs": [],
   "source": [
    "#Ridgecrest 2019\n",
    "#input_references = ['https://catalog.terradue.com/sentinel1/search?uid=S1B_IW_GRDH_1SDV_20190710T015000_20190710T015025_017065_0201B8_F9D4',\n",
    "#                    'https://catalog.terradue.com/sentinel1/search?uid=S1B_IW_GRDH_1SDV_20190628T014959_20190628T015024_016890_01FC87_AD21']"
   ]
  },
  {
   "cell_type": "code",
   "execution_count": 8,
   "metadata": {},
   "outputs": [
    {
     "name": "stdout",
     "output_type": "stream",
     "text": [
      "https://store.terradue.com/download/sentinel2/files/v1/S2A_MSIL2A_20190601T163311_N0212_R140_T15MYV_20190601T221326\n",
      "https://store.terradue.com/download/sentinel2/files/v1/S2A_MSIL2A_20190611T163311_N0212_R140_T15MYV_20190611T222739\n"
     ]
    }
   ],
   "source": [
    "for input_reference in input_references:\n",
    "    \n",
    "    enclosure = ciop.search(end_point=input_reference,\n",
    "                              params=[('do', 'terradue')],\n",
    "                              output_fields='enclosure',\n",
    "                              model='EOP')[0]['enclosure']\n",
    "\n",
    "    print enclosure\n",
    "    retrieved = ciop.copy(enclosure, data_path, extract=True)"
   ]
  },
  {
   "cell_type": "code",
   "execution_count": null,
   "metadata": {},
   "outputs": [],
   "source": []
  }
 ],
 "metadata": {
  "kernelspec": {
   "display_name": "Python 2",
   "language": "python",
   "name": "python2"
  },
  "language_info": {
   "codemirror_mode": {
    "name": "ipython",
    "version": 2
   },
   "file_extension": ".py",
   "mimetype": "text/x-python",
   "name": "python",
   "nbconvert_exporter": "python",
   "pygments_lexer": "ipython2",
   "version": "2.7.12"
  }
 },
 "nbformat": 4,
 "nbformat_minor": 2
}

