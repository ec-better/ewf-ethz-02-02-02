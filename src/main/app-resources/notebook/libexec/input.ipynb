{
 "cells": [
  {
   "cell_type": "markdown",
   "metadata": {
    "slideshow": {
     "slide_type": "skip"
    }
   },
   "source": [
    "## Sentinel-2 feature tracking\n",
    "### ethz-02-02-02"
   ]
  },
  {
   "cell_type": "markdown",
   "metadata": {},
   "source": [
    "This application takes a pair of Sentinel-2 products and performs feature tracking using the run_dic package"
   ]
  },
  {
   "cell_type": "markdown",
   "metadata": {},
   "source": [
    "### <a name=\"service\">Service definition"
   ]
  },
  {
   "cell_type": "code",
   "execution_count": null,
   "metadata": {
    "collapsed": true
   },
   "outputs": [],
   "source": [
    "service = dict([('title', 'Sentinel-2 feature tracking'),\n",
    "                ('abstract', 'Sentinel-2 feature tracking'),\n",
    "                ('id', 'ewf-ethz-02-02-02')])"
   ]
  },
  {
   "cell_type": "code",
   "execution_count": null,
   "metadata": {},
   "outputs": [],
   "source": [
    "band = dict([('id', 'band'),\n",
    "             ('value', 'B08'),\n",
    "             ('title', 'band'),\n",
    "             ('abstract', 'desired band to analyze'),\n",
    "             ('options', 'B01,B02,B03,B04,B05,B06,B07,B08,B8A,B09,B11,B12')])"
   ]
  },
  {
   "cell_type": "code",
   "execution_count": null,
   "metadata": {},
   "outputs": [],
   "source": [
    "window_size = dict([('id', 'window_size'),\n",
    "                    ('title', 'window_size'),\n",
    "                    ('abstract', 'window size in pixels'),\n",
    "                    ('value', '512')])"
   ]
  },
  {
   "cell_type": "code",
   "execution_count": null,
   "metadata": {},
   "outputs": [],
   "source": [
    "oversampling_factor = dict([('id', 'oversampling_factor'),\n",
    "                            ('title', 'oversampling_factor'),\n",
    "                            ('abstract', 'oversampling factor'),\n",
    "                            ('value', '2')])"
   ]
  },
  {
   "cell_type": "code",
   "execution_count": null,
   "metadata": {},
   "outputs": [],
   "source": [
    "pixel_size = dict([('id', 'pixel_size'),\n",
    "                   ('title', 'pixel_size'),\n",
    "                   ('abstract', 'pixel size in meters'),\n",
    "                   ('value', '10')])"
   ]
  },
  {
   "cell_type": "code",
   "execution_count": null,
   "metadata": {},
   "outputs": [],
   "source": [
    "color_scale_limits = dict([('id', 'color_scale_limits'),\n",
    "                           ('title', 'color_scale_limits'),\n",
    "                           ('abstract', 'color_scale_limits'),\n",
    "                           ('value', '0,10')])"
   ]
  },
  {
   "cell_type": "markdown",
   "metadata": {},
   "source": [
    "### <a name=\"runtime\">Runtime parameter definition"
   ]
  },
  {
   "cell_type": "markdown",
   "metadata": {},
   "source": [
    "**Input identifiers**\n",
    "\n",
    "These are the Sentinel-1 product identifiers"
   ]
  },
  {
   "cell_type": "code",
   "execution_count": null,
   "metadata": {},
   "outputs": [],
   "source": [
    "input_identifiers = ('S2A_MSIL2A_20190601T163311_N0212_R140_T15MYV_20190601T221326',\n",
    "                     'S2A_MSIL2A_20190611T163311_N0212_R140_T15MYV_20190611T222739')"
   ]
  },
  {
   "cell_type": "markdown",
   "metadata": {},
   "source": [
    "**Input references**\n",
    "\n",
    "These are the Sentinel-1 catalogue references"
   ]
  },
  {
   "cell_type": "code",
   "execution_count": null,
   "metadata": {},
   "outputs": [],
   "source": [
    "input_references = ('https://catalog.terradue.com:443/sentinel2/search?uid=S2A_MSIL2A_20190601T163311_N0212_R140_T15MYV_20190601T221326',\n",
    "                    'https://catalog.terradue.com:443/sentinel2/search?uid=S2A_MSIL2A_20190611T163311_N0212_R140_T15MYV_20190611T222739')"
   ]
  },
  {
   "cell_type": "markdown",
   "metadata": {
    "slideshow": {
     "slide_type": "slide"
    }
   },
   "source": [
    "**Data path**\n",
    "\n",
    "This path defines where the data is staged-in. "
   ]
  },
  {
   "cell_type": "code",
   "execution_count": null,
   "metadata": {
    "collapsed": true
   },
   "outputs": [],
   "source": [
    "data_path = '/workspace/data'"
   ]
  },
  {
   "cell_type": "markdown",
   "metadata": {},
   "source": [
    "### <a name=\"workflow\">Workflow"
   ]
  },
  {
   "cell_type": "markdown",
   "metadata": {},
   "source": [
    "#### Import the packages required for processing the data"
   ]
  },
  {
   "cell_type": "code",
   "execution_count": null,
   "metadata": {
    "collapsed": true
   },
   "outputs": [],
   "source": [
    "%load_ext autoreload\n",
    "%autoreload 2\n",
    "\n",
    "import sys\n",
    "import os\n",
    "sys.path.append('/application/notebook/libexec/') \n",
    "sys.path.append(os.getcwd())\n",
    "from ellip_snap_helpers import create_metadata\n",
    "import xml.etree.ElementTree as ET\n",
    "\n",
    "import geopandas as gpd\n",
    "from datetime import datetime\n",
    "\n",
    "import matplotlib.pyplot as plt\n",
    "\n",
    "from shapely.geos import ReadingError\n",
    "import gdal\n",
    "import lxml.etree as etree\n",
    "\n",
    "import warnings\n",
    "warnings.filterwarnings(\"ignore\")\n",
    "\n",
    "import glob\n",
    "\n",
    "sys.path.append('/opt/anaconda/bin/')\n",
    "\n",
    "import numpy as np\n",
    "import matplotlib\n",
    "import subprocess\n",
    "\n",
    "import cioppy\n",
    "ciop = cioppy.Cioppy()"
   ]
  },
  {
   "cell_type": "markdown",
   "metadata": {},
   "source": [
    "## Read the products"
   ]
  },
  {
   "cell_type": "markdown",
   "metadata": {},
   "source": [
    "### check if all the products have the same track number"
   ]
  },
  {
   "cell_type": "code",
   "execution_count": null,
   "metadata": {},
   "outputs": [],
   "source": [
    "metadata = dict()\n",
    "\n",
    "try:\n",
    "    search0 = ciop.search(end_point=input_references[0],\n",
    "                         params=dict(),\n",
    "                         output_fields='identifier, startdate, enddate, wkt',\n",
    "                         model='GeoTime')[0]\n",
    "    \n",
    "    search1 = ciop.search(end_point=input_references[1],\n",
    "                         params=dict(),\n",
    "                         output_fields='identifier, startdate, enddate, wkt',\n",
    "                         model='GeoTime')[0]\n",
    "    \n",
    "    if search0['startdate'] > search1['startdate']:\n",
    "        master_date = search1['startdate']\n",
    "        slave_date = search0['startdate']\n",
    "    else:\n",
    "        master_date = search0['startdate']\n",
    "        slave_date = search1['startdate']\n",
    "        \n",
    "    metadata['startdate'] = master_date\n",
    "    metadata['enddate'] = slave_date\n",
    "    metadata['wkt'] = search0['wkt']\n",
    "    \n",
    "    print metadata\n",
    "\n",
    "except Exception as e:\n",
    "    print('ERROR: could not retrieve products metadata. {}'.format(e))"
   ]
  },
  {
   "cell_type": "markdown",
   "metadata": {},
   "source": [
    "#### Read the products"
   ]
  },
  {
   "cell_type": "code",
   "execution_count": null,
   "metadata": {},
   "outputs": [],
   "source": [
    "band_dict = {'B01':'60m', \n",
    "             'B02':'10m', \n",
    "             'B03':'10m', \n",
    "             'B04':'10m', \n",
    "             'B05':'20m', \n",
    "             'B06':'20m', \n",
    "             'B07':'20m', \n",
    "             'B08':'10m', \n",
    "             'B8A':'20m', \n",
    "             'B09':'20m', \n",
    "             'B11':'20m', \n",
    "             'B12':'20m'}"
   ]
  },
  {
   "cell_type": "code",
   "execution_count": null,
   "metadata": {},
   "outputs": [],
   "source": [
    "for root, _, files in os.walk(os.path.join(data_path,input_identifiers[0],input_identifiers[0]+'.SAFE')):\n",
    "    for file in files:\n",
    "        if '{}_{}.jp2'.format(band['value'], band_dict[band['value']]) in file:\n",
    "            path1 = os.path.join(root, file)\n",
    "            \n",
    "print path1"
   ]
  },
  {
   "cell_type": "code",
   "execution_count": null,
   "metadata": {},
   "outputs": [],
   "source": [
    "for root, dirs,files in os.walk(os.path.join(data_path,input_identifiers[1],input_identifiers[1]+'.SAFE')):\n",
    "    for file in files:\n",
    "        if '{}_{}.jp2'.format(band['value'], band_dict[band['value']]) in file:\n",
    "            path2 = os.path.join(root, file)\n",
    "            \n",
    "print path2"
   ]
  },
  {
   "cell_type": "markdown",
   "metadata": {},
   "source": [
    "### run_dic"
   ]
  },
  {
   "cell_type": "markdown",
   "metadata": {},
   "source": [
    "#### writing the input_dic.txt"
   ]
  },
  {
   "cell_type": "code",
   "execution_count": null,
   "metadata": {},
   "outputs": [],
   "source": [
    "with open('input_dic.txt', 'wb') as file:\n",
    "    file.write('{}\\n'.format(path1))\n",
    "    file.write('{}\\n'.format(path2))\n",
    "    file.write('{} {} {}\\n'.format(window_size['value'],oversampling_factor['value'], pixel_size['value']))\n",
    "    file.write('{} {}\\n'.format(color_scale_limits['value'].split(',')[0], color_scale_limits['value'].split(',')[1]))"
   ]
  },
  {
   "cell_type": "code",
   "execution_count": null,
   "metadata": {},
   "outputs": [],
   "source": [
    "with open('input_dic.txt') as file:\n",
    "    print file.read()"
   ]
  },
  {
   "cell_type": "markdown",
   "metadata": {},
   "source": [
    "#### running the package "
   ]
  },
  {
   "cell_type": "code",
   "execution_count": null,
   "metadata": {},
   "outputs": [],
   "source": [
    "os.environ['LD_LIBRARY_PATH'] = '/opt/v94/runtime/glnxa64:/opt/v94/bin/glnxa64:/opt/v94/sys/os/glnxa64:/opt/v94/extern/bin/glnxa64'\n",
    "\n",
    "command = 'import run_dic; mr = run_dic.initialize(); mr.run_dic(\\\"input_dic.txt\\\", nargout=0)'\n",
    "\n",
    "options = ['python', '-c', command]\n",
    "\n",
    "p = subprocess.Popen(options,\n",
    "                     stdout=subprocess.PIPE,\n",
    "                     stdin=subprocess.PIPE,\n",
    "                     stderr=subprocess.PIPE)\n",
    "\n",
    "res, err = p.communicate()\n",
    "\n",
    "if res:\n",
    "    print 'RESULTS:\\n'\n",
    "    for el in res.split('\\n'):\n",
    "        print el\n",
    "\n",
    "if err:\n",
    "    print 'ERRORS:\\n'\n",
    "    for el in res.split('\\n'):\n",
    "        print el"
   ]
  },
  {
   "cell_type": "code",
   "execution_count": null,
   "metadata": {},
   "outputs": [],
   "source": [
    "os.remove('input_dic.txt')"
   ]
  },
  {
   "cell_type": "code",
   "execution_count": null,
   "metadata": {},
   "outputs": [],
   "source": [
    "src = gdal.Open(path1)\n",
    "\n",
    "geo_transform = src.GetGeoTransform()\n",
    "projection = src.GetProjection()\n",
    "\n",
    "src.FlushCache()"
   ]
  },
  {
   "cell_type": "code",
   "execution_count": null,
   "metadata": {},
   "outputs": [],
   "source": [
    "trf = {'geo_transform' : geo_transform,\n",
    "        'projection' : projection}\n",
    "\n",
    "with open('geo_transform_projection.txt', 'wb') as file:\n",
    "    file.write(str(trf))\n",
    "    file.close()"
   ]
  },
  {
   "cell_type": "code",
   "execution_count": null,
   "metadata": {},
   "outputs": [],
   "source": [
    "with open('geo_transform_projection.txt') as f:\n",
    "    print f.read()"
   ]
  },
  {
   "cell_type": "code",
   "execution_count": null,
   "metadata": {},
   "outputs": [],
   "source": [
    "for file in os.listdir('./'):\n",
    "    if '.txt' in file:\n",
    "        print file\n",
    "        #print gdal.Info(file)\n",
    "        #with rasterio.open(file, 'r') as ds:\n",
    "        #    arr = ds.read()\n",
    "            \n",
    "        #drv = gdal.GetDriverByName('GTiff')\n",
    "        #ds = drv.Create('{}_{}.tif'.format(os.path.splitext(os.path.basename(file))[0], band['value']), arr.shape[2], arr.shape[1], arr.shape[0], gdal.GDT_Byte)\n",
    "        #ds.SetGeoTransform(geo_transform)\n",
    "        #ds.SetProjection(projection)\n",
    "        #for band_number in range(arr.shape[0]):\n",
    "        #    ds.GetRasterBand(band_number+1).WriteArray(arr[band_number])\n",
    "        #ds.FlushCache()\n",
    "        \n",
    "        metadata['identifier'] = '{}_{}'.format(os.path.splitext(os.path.basename(file))[0], band['value'])\n",
    "        metadata['title'] = metadata['identifier']\n",
    "        create_metadata(metadata, metadata['identifier'])"
   ]
  },
  {
   "cell_type": "code",
   "execution_count": null,
   "metadata": {},
   "outputs": [],
   "source": [
    "os.listdir('./')"
   ]
  },
  {
   "cell_type": "markdown",
   "metadata": {},
   "source": [
    "### License"
   ]
  },
  {
   "cell_type": "markdown",
   "metadata": {
    "slideshow": {
     "slide_type": "subslide"
    }
   },
   "source": [
    "This work is licenced under a [Attribution-ShareAlike 4.0 International License (CC BY-SA 4.0)](http://creativecommons.org/licenses/by-sa/4.0/) \n",
    "\n",
    "YOU ARE FREE TO:\n",
    "\n",
    "* Share - copy and redistribute the material in any medium or format.\n",
    "* Adapt - remix, transform, and built upon the material for any purpose, even commercially.\n",
    "\n",
    "UNDER THE FOLLOWING TERMS:\n",
    "\n",
    "* Attribution - You must give appropriate credit, provide a link to the license, and indicate if changes were made. You may do so in any reasonable manner, but not in any way that suggests the licensor endorses you or your use.\n",
    "* ShareAlike - If you remix, transform, or build upon the material, you must distribute your contributions under the same license as the original."
   ]
  }
 ],
 "metadata": {
  "kernelspec": {
   "display_name": "Python 2",
   "language": "python",
   "name": "python2"
  },
  "language_info": {
   "codemirror_mode": {
    "name": "ipython",
    "version": 2
   },
   "file_extension": ".py",
   "mimetype": "text/x-python",
   "name": "python",
   "nbconvert_exporter": "python",
   "pygments_lexer": "ipython2",
   "version": "2.7.12"
  }
 },
 "nbformat": 4,
 "nbformat_minor": 2
}
